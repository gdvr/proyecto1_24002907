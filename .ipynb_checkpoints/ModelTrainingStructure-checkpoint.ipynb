{
 "cells": [
  {
   "cell_type": "code",
   "execution_count": 5,
   "id": "2b87ce27-0fa3-4fca-bb77-4d7cdbc815e7",
   "metadata": {
    "tags": []
   },
   "outputs": [],
   "source": [
    "class DataIterationData:\n",
    "    def __init__(self, error, iteration, training_values, x_train, y_train,y_pred):\n",
    "        self.error = error\n",
    "        self.iteration = iteration\n",
    "        self.training_values = training_values\n",
    "        self.x_train = x_train\n",
    "        self.y_train = y_train\n",
    "        self.y_pred = y_pred\n",
    "\n",
    "class DataIterationDataList:\n",
    "    def __init__(self):\n",
    "        self.data_list = []\n",
    "\n",
    "    def add_data(self, error, iteration, training_values,x_train, y_train,y_pred):\n",
    "        data = DataIterationData(error, iteration, training_values,x_train, y_train,y_pred)\n",
    "        self.data_list.append(data)\n",
    "\n",
    "    def get_data(self):\n",
    "        return self.data_list\n",
    "    \n",
    "    def predict(self,x):\n",
    "        model_values = self.data_list[-1]\n",
    "        return model_values.training_values[0] + (model_values.training_values[1] * x)\n",
    "        \n"
   ]
  },
  {
   "cell_type": "code",
   "execution_count": null,
   "id": "e0262ffc-164f-4ec5-b906-ae06b56e9a26",
   "metadata": {},
   "outputs": [],
   "source": []
  }
 ],
 "metadata": {
  "kernelspec": {
   "display_name": "Python 3 (ipykernel)",
   "language": "python",
   "name": "python3"
  },
  "language_info": {
   "codemirror_mode": {
    "name": "ipython",
    "version": 3
   },
   "file_extension": ".py",
   "mimetype": "text/x-python",
   "name": "python",
   "nbconvert_exporter": "python",
   "pygments_lexer": "ipython3",
   "version": "3.11.5"
  }
 },
 "nbformat": 4,
 "nbformat_minor": 5
}
