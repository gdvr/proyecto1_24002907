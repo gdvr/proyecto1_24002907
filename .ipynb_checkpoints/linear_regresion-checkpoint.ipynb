{
 "cells": [
  {
   "cell_type": "markdown",
   "id": "7a3773f6-9ce3-43aa-9c0b-299cfc6b29ce",
   "metadata": {},
   "source": [
    "# Gerardo Daniel Vega Rosales"
   ]
  },
  {
   "cell_type": "code",
   "execution_count": 1,
   "id": "c6d4470e-dab8-4d16-b9fa-fcaf3e725ad0",
   "metadata": {
    "tags": []
   },
   "outputs": [],
   "source": [
    "import numpy as np\n",
    "import pandas as pd\n",
    "import matplotlib.pyplot as plt\n",
    "import seaborn as sns\n",
    "from sklearn.linear_model import LinearRegression"
   ]
  },
  {
   "cell_type": "code",
   "execution_count": 2,
   "id": "52fb45ef-d59e-4988-bcda-3b170c02c65c",
   "metadata": {
    "tags": []
   },
   "outputs": [],
   "source": [
    "def printDataSetInfo(dataset):\n",
    "    print(f\"{'*'*50} DataSet Information {'*'*50}\")\n",
    "    print(f\"Dimensiones del dataset {dataset.shape}\")\n",
    "    print(\"Columnas\")\n",
    "    print(dataset.columns)\n",
    "    print(\"Tipos\")\n",
    "    print(dataset.dtypes)    \n",
    "    \n",
    "    print()\n",
    "    print(\"Verificando los valores nulos del dataset\")\n",
    "    columnas = dataset.columns\n",
    "    for col in columnas:\n",
    "        porcentaje = dataset[col].isnull().mean()\n",
    "        if(porcentaje > 0):\n",
    "            print(f\"{col}: {porcentaje}\")\n",
    "    print()\n",
    "   \n",
    "    print(\"Valores Estadisticos de las columnas\")\n",
    "    for col in columnas:\n",
    "        df_describe = dataset[col].describe()\n",
    "        print(col)\n",
    "        print(\"Media\",df_describe['mean'])\n",
    "        print(\"Maximo\",df_describe['max'])        \n",
    "        print(\"Minimo\",df_describe['min'])        \n",
    "        print(\"Rango\" ,df_describe['max']- df_describe['min'])\n",
    "        print(\"Desviacion\",df_describe['std'])\n",
    "        sns.displot(dataset[col])\n",
    "        plt.show()\n",
    "        print(\"-\"*20)    \n",
    "        print()\n",
    "    print(f\"{'*'*50} Fin DataSet Information {'*'*50}\")"
   ]
  },
  {
   "cell_type": "code",
   "execution_count": 3,
   "id": "41c795db-348e-4847-addd-64f3389fd99f",
   "metadata": {
    "tags": []
   },
   "outputs": [],
   "source": [
    "def slicingDataSet(dataset):  \n",
    "    # Calculate the index to split the data\n",
    "    split_index = int(0.8 * len(dataset))\n",
    "\n",
    "    # Splitting into train and test datasets\n",
    "    train_df = dataset.iloc[:split_index]\n",
    "    test_df = dataset.iloc[split_index:]\n",
    "\n",
    "    # Display the shapes of train and test datasets\n",
    "    print(\"Train dataset shape:\", train_df.shape)\n",
    "    print(\"Test dataset shape:\", test_df.shape)\n",
    "    return train_df, test_df"
   ]
  },
  {
   "cell_type": "code",
   "execution_count": 4,
   "id": "ee3c6e81-6446-45cb-8426-451d9d91bec1",
   "metadata": {
    "tags": []
   },
   "outputs": [],
   "source": [
    "def correlationCoefficientes(dataset):\n",
    "    # Calculate correlation coefficients\n",
    "    \n",
    "    correlation_matrix = dataset.corr()\n",
    "\n",
    "    # Visualize the correlation matrix\n",
    "    plt.figure(figsize=(10, 8))\n",
    "    plt.imshow(correlation_matrix, cmap='coolwarm', interpolation='nearest')\n",
    "    plt.colorbar()\n",
    "    plt.xticks(range(len(correlation_matrix.columns)), correlation_matrix.columns, rotation=90)\n",
    "    plt.yticks(range(len(correlation_matrix.columns)), correlation_matrix.columns)\n",
    "    plt.title('Correlation Matrix')\n",
    "    plt.show()"
   ]
  },
  {
   "cell_type": "code",
   "execution_count": 5,
   "id": "e26a3720-4dfe-4466-8a8b-96808ec731f6",
   "metadata": {
    "tags": []
   },
   "outputs": [],
   "source": [
    "def showScatterPlotBetweenXandY(dataset,dependant):\n",
    "    # Assuming 'x' and 'y' are the column names you want to compare\n",
    "    x_columns = dataset.columns  # Replace with your actual column names\n",
    "    y_column = dependant  # Replace with your actual column name\n",
    "\n",
    "    plt.figure(figsize=(12, 8))\n",
    "    index_col = 1\n",
    "    for i, x in enumerate(x_columns,1):\n",
    "        if(x == dependant):\n",
    "            continue\n",
    "        correlation_coefficient = train_df[x].corr(train_df[y_column])\n",
    "        print(f\"Correlation coefficient between {x} and {y_column}: {correlation_coefficient}\")\n",
    "        plt.subplot(2, 3, index_col)\n",
    "        sns.scatterplot(data=train_df, x=x, y=y_column)\n",
    "        plt.title(f'CR={correlation_coefficient}')\n",
    "        index_col=index_col+1\n",
    "    plt.tight_layout()\n",
    "    plt.show()\n",
    "    # Plot scatterplots for each 'x' and 'y' pair\n",
    "    \"\"\"plt.figure(figsize=(12, 8))\n",
    "    for i, x_col in enumerate(x_columns, 1):\n",
    "        plt.subplot(2, 3, i)\n",
    "        sns.scatterplot(data=train_df, x=x_col, y=y_column)\n",
    "        plt.title(f'{x_col} vs {y_column}')\n",
    "\n",
    "    plt.tight_layout()\n",
    "    plt.show()\n",
    "    \"\"\""
   ]
  },
  {
   "cell_type": "code",
   "execution_count": 6,
   "id": "c1f3742a-a34e-4892-a6fb-223e71077505",
   "metadata": {
    "tags": []
   },
   "outputs": [],
   "source": [
    "%run ModelTrainingStructure.ipynb"
   ]
  },
  {
   "cell_type": "code",
   "execution_count": 28,
   "id": "8c88a86e-d9ed-4043-bdd5-78cd41b993be",
   "metadata": {
    "tags": []
   },
   "outputs": [],
   "source": [
    "def linearRegresion(x_train,y_train,epochs,imprimir_error_cada, learning_rate, b_data):\n",
    "    B0 = b_data[0] \n",
    "    B1 = b_data[1]   \n",
    "  \n",
    "    data_list = DataIterationDataList()\n",
    "   # matrix_array = np.array([x_train, np.ones(len(x_train))]).T\n",
    "    errores = []\n",
    "    \n",
    "    for x in range(epochs):   \n",
    "        Y_pred = B0 + (B1 * x_train)\n",
    "        result_array = np.sum(y_train - Y_pred)**2\n",
    "        error = result_array * (1/ (2 * len(y_train)))\n",
    "        errores.append(error)\n",
    "        \n",
    "        eB1 = np.sum((Y_pred - y_train )*x_train)*(1/(len(y_train)))\n",
    "        eB0 = np.sum((Y_pred - y_train))*(1/(len(y_train)))\n",
    "\n",
    "        B1 = B1 - (learning_rate * eB1)\n",
    "        B0 = B0 - (learning_rate * eB0)\n",
    "        \n",
    "        data_list.add_data(error,x+1,[B0,B1], x_train, y_train, Y_pred)\n",
    "        \n",
    "        if (x + 1) % imprimir_error_cada == 0:\n",
    "            print(\"y_predict_values\")\n",
    "            print(Y_pred)        \n",
    "            print()\n",
    "            print(f\"iteration {x}\")\n",
    "            print(Y_pred)\n",
    "            print(f\"error: {error}\")\n",
    "            #print(result_matrix)\n",
    "            print(f\"EB1: {eB1}\")\n",
    "            print(f\"EB0: {eB0}\")\n",
    "            print(f\"B0: {B0}\")\n",
    "            print(F\"B1:{B1}\")\n",
    "            \"\"\"\n",
    "            plt.figure(figsize=(10, 8))\n",
    "            plt.scatter(x_train, y_train, color='b')\n",
    "            plt.plot(x_train, Y_pred, color='g')\n",
    "            plt.show()\n",
    "            \"\"\"\n",
    "            print()\n",
    "    \n",
    "    vals = np.arange(1, len(errores) + 1)\n",
    "    print(f\"B0: {B0}\")\n",
    "    print(F\"B1:{B1}\")\n",
    "    print(f\"vals:{len(vals)}\")\n",
    "    print(f\"errpres:{len(errores)}\")        \n",
    "    return data_list\n",
    "\n",
    "def graphError(dataList):\n",
    "    data = dataList.get_data()\n",
    "    vals = np.arange(1, len(data) + 1)\n",
    "    errores = [d.error for d in data]\n",
    "    plt.figure(figsize=(10, 8))\n",
    "    plt.scatter(vals, errores, color='b')\n",
    "    plt.title(f'Error evolution, epochs: {len(vals)}')\n",
    "    #plt.plot(x_train, y_train, color='g')\n",
    "    #plt.scatter(self.X, self.Y, color='b')\n",
    "    plt.show()\n",
    "    \n",
    "def graphTrainingModel(dataList, n):\n",
    "    data = dataList.get_data()    \n",
    "    x = 1\n",
    "    for d in data:\n",
    "        if (x % n) == 0:   \n",
    "            plt.figure(figsize=(10, 8))\n",
    "            plt.scatter(d.x_train, d.y_train, color='b')\n",
    "            plt.plot(d.x_train, d.y_pred, color='g')\n",
    "            plt.title(f'Model evolution, epochs: {d.iteration}, B0: {round(float(d.training_values[0]),2)}, B1: {round(float(d.training_values[1]),2)}')\n",
    "            plt.show()\n",
    "        x = x + 1\n",
    "\n",
    "def predictModels(manual_model, scikit_model, values):\n",
    "    predict_list = []\n",
    "    for x in values:\n",
    "        manual = manual_model.predict(x)\n",
    "        scikit = scikit_model.predict(np.array([[x]]))\n",
    "        predict_list.append([manual,scikit[0], ((manual+scikit[0])/2)])\n",
    "    return predict_list\n",
    "        \n",
    "    \n",
    "def testingModels(testing_data,manual_model, scikit_model, x_var):\n",
    "    predict_values = predictModels(dataList,reg,testing_data[x_var].to_numpy())\n",
    "    manual_values = [inner_list[0] for inner_list in predict_values]\n",
    "    scikit_values = [inner_list[1] for inner_list in predict_values]\n",
    "    \n",
    "    error_manual = np.sum(testing_data['SalePrice'].to_numpy() - manual_values)**2\n",
    "    error_manual = (error_manual/len(testing_data)) ** 0.5    \n",
    "    error_scikit = np.sum(testing_data['SalePrice'].to_numpy() - scikit_values)**2\n",
    "    error_scikit = (error_scikit/len(testing_data)) ** 0.5    \n",
    "    \n",
    "    plt.figure(figsize=(8, 6))\n",
    "    plt.bar(['manual','scikit'], [error_manual,error_scikit],color=['blue', 'green'])\n",
    "    plt.xlabel('Error')\n",
    "    plt.ylabel('Comparison')\n",
    "    plt.title(f\"Manual: {round(error_manual,2)} vs Scikit: {round(error_scikit,2)}\")\n",
    "    plt.grid(True)\n",
    "    plt.show()\n",
    "\n",
    "        "
   ]
  },
  {
   "cell_type": "code",
   "execution_count": 29,
   "id": "478252b1-af8c-4159-a7c2-a0d73a60b3a6",
   "metadata": {
    "tags": []
   },
   "outputs": [],
   "source": [
    "def sckitLearningApproach(x_train,y_train):\n",
    "    if len(x_train.shape) == 1:\n",
    "        x_train = x_train.reshape(-1, 1)\n",
    "    reg = LinearRegression().fit(x_train, y_train)\n",
    "    print(\"intercepts\")\n",
    "    print(reg.intercept_)\n",
    "    print(\"coeficient\")\n",
    "    print(reg.coef_)\n",
    "    return reg"
   ]
  },
  {
   "cell_type": "code",
   "execution_count": 30,
   "id": "19b7acf0-8fd5-4e26-ada5-f8715cabf6e8",
   "metadata": {
    "tags": []
   },
   "outputs": [
    {
     "name": "stdout",
     "output_type": "stream",
     "text": [
      "Train dataset shape: (1168, 6)\n",
      "Test dataset shape: (292, 6)\n",
      "y_predict_values\n",
      "[221331.85898026 176058.44417724 221331.85898026 ... 221331.85898026\n",
      " 266605.27378329 176058.44417724]\n",
      "\n",
      "iteration 9999\n",
      "[221331.85898026 176058.44417724 221331.85898026 ... 221331.85898026\n",
      " 266605.27378329 176058.44417724]\n",
      "error: 1031257.6063315392\n",
      "EB1: -6.561585016608037\n",
      "EB0: 42.02204261618177\n",
      "B0: -95582.46486131243\n",
      "B1:45273.480418871615\n",
      "\n",
      "y_predict_values\n",
      "[221413.69566736 176002.91295232 221413.69566736 ... 221413.69566736\n",
      " 266824.4783824  176002.91295232]\n",
      "\n",
      "iteration 19999\n",
      "[221413.69566736 176002.91295232 221413.69566736 ... 221413.69566736\n",
      " 266824.4783824  176002.91295232]\n",
      "error: 79.40613864538187\n",
      "EB1: -0.05757742184086715\n",
      "EB0: 0.3687403090098336\n",
      "B0: -96461.78702533501\n",
      "B1:45410.78329081567\n",
      "\n",
      "y_predict_values\n",
      "[221414.41377822 176002.42566993 221414.41377822 ... 221414.41377822\n",
      " 266826.40188651 176002.42566993]\n",
      "\n",
      "iteration 29999\n",
      "[221414.41377822 176002.42566993 221414.41377822 ... 221414.41377822\n",
      " 266826.40188651 176002.42566993]\n",
      "error: 0.00611421914945777\n",
      "EB1: -0.0005052374468156302\n",
      "EB0: 0.0032356689166403627\n",
      "B0: -96469.50301214203\n",
      "B1:45411.98811333901\n",
      "\n",
      "B0: -96469.50301214203\n",
      "B1:45411.98811333901\n",
      "vals:30000\n",
      "errpres:30000\n",
      "intercepts\n",
      "-96469.57131874\n",
      "coeficient\n",
      "[45411.99877916]\n",
      "manual: 34917.47216534026\n",
      "scikit: 34917.52899072059\n"
     ]
    },
    {
     "data": {
      "image/png": "[encoded data removed]",
      "text/plain": [
       "<Figure size 800x600 with 1 Axes>"
      ]
     },
     "metadata": {},
     "output_type": "display_data"
    }
   ],
   "source": [
    "data_array = np.load('proyecto_training_data.npy')\n",
    "#print(data_array)\n",
    "df = pd.DataFrame(data_array, columns=[\"SalePrice\",\"OverallQual\", \"1stFlrSF\",\"TotRmsAbvGrd\",\"YearBuilt\", \"LotFrontage\"])\n",
    "#printDataSetInfo(df)\n",
    "train_df, test_df = slicingDataSet(df)\n",
    "#correlationCoefficientes(train_df)\n",
    "#showScatterPlotBetweenXandY(train_df,\"SalePrice\")\n",
    "#train_df['SalePrice'][0]\n",
    "\n",
    "#Fisrt variable\n",
    "b_data=[0,0]\n",
    "dataList = linearRegresion(train_df['OverallQual'].to_numpy(),train_df['SalePrice'].to_numpy(),30000,10000,0.01,b_data)\n",
    "#graphTrainingModel(dataList,1000)\n",
    "#graphError(dataList)\n",
    "reg = sckitLearningApproach(train_df['OverallQual'].to_numpy(),train_df['SalePrice'].to_numpy())\n",
    "#print(predictModels(dataList,reg,[2,4,5]))\n",
    "testingModels(test_df,dataList,reg,'OverallQual')\n",
    "#second Varuable\n",
    "#data=[0,0]\n",
    "#linearRegresion(train_df['1stFlrSF'].to_numpy(),train_df['SalePrice'].to_numpy(),10,1,0.01,b_data)\n",
    "#reg = sckitLearningApproach(train_df['1stFlrSF'].to_numpy(),train_df['SalePrice'].to_numpy())\n",
    "#OverallQual\n",
    "#1stFlSF\n"
   ]
  },
  {
   "cell_type": "code",
   "execution_count": null,
   "id": "1d3cab66-fc47-4121-889d-ee9643ff6142",
   "metadata": {
    "tags": []
   },
   "outputs": [
    {
     "name": "stdout",
     "output_type": "stream",
     "text": [
      "Start Script\n",
      "We can perform the git command\n",
      "[gdvr/feature/control_file ff58f1e] update notebook\n",
      " 4 files changed, 874 insertions(+), 1586 deletions(-)\n",
      " rewrite .ipynb_checkpoints/linear_regresion-checkpoint.ipynb (99%)\n",
      " rewrite linear_regresion.ipynb (99%)\n",
      "Pushing data to remote server!!!\n"
     ]
    }
   ],
   "source": [
    "%%bash\n",
    "echo \"Start Script\"\n",
    "if [ -d \".git\" ]\n",
    "then\n",
    "echo \"We can perform the git command\"\n",
    "git add .\n",
    "git commit -m \"update notebook\"\n",
    "echo \"Pushing data to remote server!!!\"\n",
    "git push\n",
    "else\n",
    "echo \"Please add the origin after perform git commands\"\n",
    "fi\n",
    "echo \"Finish Script\""
   ]
  },
  {
   "cell_type": "code",
   "execution_count": null,
   "id": "eb300070-e21c-4d9a-bcb6-504dbb083b51",
   "metadata": {},
   "outputs": [],
   "source": [
    "\n"
   ]
  }
 ],
 "metadata": {
  "kernelspec": {
   "display_name": "Python 3 (ipykernel)",
   "language": "python",
   "name": "python3"
  },
  "language_info": {
   "codemirror_mode": {
    "name": "ipython",
    "version": 3
   },
   "file_extension": ".py",
   "mimetype": "text/x-python",
   "name": "python",
   "nbconvert_exporter": "python",
   "pygments_lexer": "ipython3",
   "version": "3.11.5"
  }
 },
 "nbformat": 4,
 "nbformat_minor": 5
}
