{
 "cells": [
  {
   "cell_type": "markdown",
   "id": "7a3773f6-9ce3-43aa-9c0b-299cfc6b29ce",
   "metadata": {},
   "source": [
    "# Gerardo Daniel Vega Rosales"
   ]
  },
  {
   "cell_type": "code",
   "execution_count": null,
   "id": "c6d4470e-dab8-4d16-b9fa-fcaf3e725ad0",
   "metadata": {
    "tags": []
   },
   "outputs": [],
   "source": [
    "import numpy as np\n",
    "import pandas as pd\n",
    "import matplotlib.pyplot as plt\n",
    "import seaborn as sns"
   ]
  },
  {
   "cell_type": "code",
   "execution_count": null,
   "id": "52fb45ef-d59e-4988-bcda-3b170c02c65c",
   "metadata": {
    "tags": []
   },
   "outputs": [],
   "source": [
    "def printDataSetInfo(dataset):\n",
    "    print(f\"{'*'*50} DataSet Information {'*'*50}\")\n",
    "    print(f\"Dimensiones del dataset {dataset.shape}\")\n",
    "    print(\"Columnas\")\n",
    "    print(dataset.columns)\n",
    "    print(\"Tipos\")\n",
    "    print(dataset.dtypes)    \n",
    "    \n",
    "    print()\n",
    "    print(\"Verificando los valores nulos del dataset\")\n",
    "    columnas = dataset.columns\n",
    "    for col in columnas:\n",
    "        porcentaje = dataset[col].isnull().mean()\n",
    "        if(porcentaje > 0):\n",
    "            print(f\"{col}: {porcentaje}\")\n",
    "    print()\n",
    "   \n",
    "    print(\"Valores Estadisticos de las columnas\")\n",
    "    for col in columnas:\n",
    "        df_describe = dataset[col].describe()\n",
    "        print(col)\n",
    "        print(\"Media\",df_describe['mean'])\n",
    "        print(\"Maximo\",df_describe['max'])        \n",
    "        print(\"Minimo\",df_describe['min'])        \n",
    "        print(\"Rango\" ,df_describe['max']- df_describe['min'])\n",
    "        print(\"Desviacion\",df_describe['std'])\n",
    "        sns.displot(dataset[col])\n",
    "        plt.show()\n",
    "        print(\"-\"*20)    \n",
    "        print()\n",
    "    print(f\"{'*'*50} Fin DataSet Information {'*'*50}\")"
   ]
  },
  {
   "cell_type": "code",
   "execution_count": null,
   "id": "41c795db-348e-4847-addd-64f3389fd99f",
   "metadata": {
    "tags": []
   },
   "outputs": [],
   "source": [
    "def slicingDataSet(dataset):  \n",
    "    # Calculate the index to split the data\n",
    "    split_index = int(0.8 * len(dataset))\n",
    "\n",
    "    # Splitting into train and test datasets\n",
    "    train_df = dataset.iloc[:split_index]\n",
    "    test_df = dataset.iloc[split_index:]\n",
    "\n",
    "    # Display the shapes of train and test datasets\n",
    "    print(\"Train dataset shape:\", train_df.shape)\n",
    "    print(\"Test dataset shape:\", test_df.shape)\n",
    "    return train_df, test_df"
   ]
  },
  {
   "cell_type": "code",
   "execution_count": null,
   "id": "ee3c6e81-6446-45cb-8426-451d9d91bec1",
   "metadata": {
    "tags": []
   },
   "outputs": [],
   "source": [
    "def correlationCoefficientes(dataset):\n",
    "    # Calculate correlation coefficients\n",
    "    \n",
    "    correlation_matrix = dataset.corr()\n",
    "\n",
    "    # Visualize the correlation matrix\n",
    "    plt.figure(figsize=(10, 8))\n",
    "    plt.imshow(correlation_matrix, cmap='coolwarm', interpolation='nearest')\n",
    "    plt.colorbar()\n",
    "    plt.xticks(range(len(correlation_matrix.columns)), correlation_matrix.columns, rotation=90)\n",
    "    plt.yticks(range(len(correlation_matrix.columns)), correlation_matrix.columns)\n",
    "    plt.title('Correlation Matrix')\n",
    "    plt.show()"
   ]
  },
  {
   "cell_type": "code",
   "execution_count": null,
   "id": "e26a3720-4dfe-4466-8a8b-96808ec731f6",
   "metadata": {
    "tags": []
   },
   "outputs": [],
   "source": [
    "def showScatterPlotBetweenXandY(dataset,dependant):\n",
    "    # Assuming 'x' and 'y' are the column names you want to compare\n",
    "    x_columns = dataset.columns  # Replace with your actual column names\n",
    "    y_column = dependant  # Replace with your actual column name\n",
    "\n",
    "    plt.figure(figsize=(12, 8))\n",
    "    index_col = 1\n",
    "    for i, x in enumerate(x_columns,1):\n",
    "        if(x == dependant):\n",
    "            continue\n",
    "        correlation_coefficient = train_df[x].corr(train_df[y_column])\n",
    "        print(f\"Correlation coefficient between {x} and {y_column}: {correlation_coefficient}\")\n",
    "        plt.subplot(2, 3, index_col)\n",
    "        sns.scatterplot(data=train_df, x=x, y=y_column)\n",
    "        plt.title(f'CR={correlation_coefficient}')\n",
    "        index_col=index_col+1\n",
    "    plt.tight_layout()\n",
    "    plt.show()\n",
    "    # Plot scatterplots for each 'x' and 'y' pair\n",
    "    \"\"\"plt.figure(figsize=(12, 8))\n",
    "    for i, x_col in enumerate(x_columns, 1):\n",
    "        plt.subplot(2, 3, i)\n",
    "        sns.scatterplot(data=train_df, x=x_col, y=y_column)\n",
    "        plt.title(f'{x_col} vs {y_column}')\n",
    "\n",
    "    plt.tight_layout()\n",
    "    plt.show()\n",
    "    \"\"\""
   ]
  },
  {
   "cell_type": "code",
   "execution_count": null,
   "id": "19b7acf0-8fd5-4e26-ada5-f8715cabf6e8",
   "metadata": {
    "tags": []
   },
   "outputs": [],
   "source": [
    "data_array = np.load('proyecto_training_data.npy')\n",
    "#print(data_array)\n",
    "df = pd.DataFrame(data_array, columns=[\"SalePrice\",\"OverallQual\", \"1stFlrSF\",\"TotRmsAbvGrd\",\"YearBuilt\", \"LotFrontage\"])\n",
    "#printDataSetInfo(df)\n",
    "train_df, test_df = slicingDataSet(df)\n",
    "#correlationCoefficientes(train_df)\n",
    "#showScatterPlotBetweenXandY(train_df,\"SalePrice\")\n",
    "#train_df['SalePrice'][0]\n",
    "\n",
    "#Fisrt variable\n",
    "#b_data=[0,0]\n",
    "#linearRegresion(train_df['OverallQual'].to_numpy(),train_df['SalePrice'].to_numpy(),30000,5000,0.01,b_data)\n",
    "#reg = sckitLearningApproach(train_df['OverallQual'].to_numpy(),train_df['SalePrice'].to_numpy())\n",
    "\n",
    "#Secibd Varuable\n",
    "data=[-26240440.53339312,33510275796.844734]\n",
    "linearRegresion(train_df['1stFlrSF'].to_numpy(),train_df['SalePrice'].to_numpy(),10,1,0.01,b_data)\n",
    "#reg = sckitLearningApproach(train_df['1stFlrSF'].to_numpy(),train_df['SalePrice'].to_numpy())\n",
    "\"\"\"\n",
    "Train dataset shape: (1168, 6)\n",
    "Test dataset shape: (292, 6)\n",
    "intercepts\n",
    "30324.585174963664\n",
    "coeficient\n",
    "[129.95124229]\n",
    "\"\"\"\n",
    "#OverallQual\n",
    "#1stFlSF\n"
   ]
  },
  {
   "cell_type": "code",
   "execution_count": null,
   "id": "8c88a86e-d9ed-4043-bdd5-78cd41b993be",
   "metadata": {
    "tags": []
   },
   "outputs": [],
   "source": [
    "def linearRegresion(x_train,y_train,epochs,imprimir_error_cada, learning_rate, b_data):\n",
    "    B0 = b_data[0] \n",
    "    B1 = b_data[1]   \n",
    "  \n",
    "   # matrix_array = np.array([x_train, np.ones(len(x_train))]).T\n",
    "    errores = []\n",
    "    \n",
    "    for x in range(epochs):   \n",
    "        #print(\"x_vals\")\n",
    "        #print(matrix_array[:, 0])\n",
    "        Y_pred = B0 + (B1 * x_train)\n",
    "        #print(\"y_predict_values\")\n",
    "        #print(Y_pred)\n",
    "        #print(\"y values\")\n",
    "        #print(y_train)\n",
    "        result_array = np.sum(y_train - Y_pred)**2\n",
    "        error = result_array * (1/ (2 * len(y_train)))\n",
    "        errores.append(error)\n",
    "        \n",
    "        #operations = [lambda x: (Y_pred - y_train )*x_train, lambda x: (Y_pred - y_train)]\n",
    "        # Apply the operations column-wise\n",
    "        #result_matrix = np.column_stack(tuple(op(col) for op, col in zip(operations, matrix_array.T)))\n",
    "        #print(\"matrix\")\n",
    "        #print(result_matrix)\n",
    "        eB1 = np.sum((Y_pred - y_train )*x_train)*(1/(len(y_train)))\n",
    "        eB0 = np.sum((Y_pred - y_train))*(1/(len(y_train)))\n",
    "\n",
    "        B1 = B1 - (learning_rate * eB1)\n",
    "        B0 = B0 - (learning_rate * eB0)\n",
    "        \n",
    "        if (x + 1) % imprimir_error_cada == 0:\n",
    "            print(\"y_predict_values\")\n",
    "            print(Y_pred)        \n",
    "            print()\n",
    "            print(f\"iteration {x}\")\n",
    "            print(Y_pred)\n",
    "            print(f\"error: {error}\")\n",
    "            #print(result_matrix)\n",
    "            print(f\"EB1: {eB1}\")\n",
    "            print(f\"EB0: {eB0}\")\n",
    "            print(f\"B0: {B0}\")\n",
    "            print(F\"B1:{B1}\")\n",
    "            plt.figure(figsize=(10, 8))\n",
    "            plt.scatter(x_train, y_train, color='b')\n",
    "            plt.plot(x_train, Y_pred, color='g')\n",
    "            plt.show()\n",
    "    \n",
    "    vals = np.arange(1, len(errores) + 1)\n",
    "    print(f\"B0: {B0}\")\n",
    "    print(F\"B1:{B1}\")\n",
    "    print(f\"vals:{len(vals)}\")\n",
    "    print(f\"errpres:{len(errores)}\")    \n",
    "    plt.figure(figsize=(10, 8))\n",
    "    plt.scatter(vals, errores, color='b')\n",
    "    #plt.plot(x_train, y_train, color='g')\n",
    "    #plt.scatter(self.X, self.Y, color='b')\n",
    "    plt.show()"
   ]
  },
  {
   "cell_type": "code",
   "execution_count": null,
   "id": "478252b1-af8c-4159-a7c2-a0d73a60b3a6",
   "metadata": {
    "tags": []
   },
   "outputs": [],
   "source": [
    "from sklearn.linear_model import LinearRegression\n",
    "\n",
    "def sckitLearningApproach(x_train,y_train):\n",
    "    if len(x_train.shape) == 1:\n",
    "        x_train = x_train.reshape(-1, 1)\n",
    "    reg = LinearRegression().fit(x_train, y_train)\n",
    "    print(\"intercepts\")\n",
    "    print(reg.intercept_)\n",
    "    print(\"coeficient\")\n",
    "    print(reg.coef_)\n",
    "    return reg"
   ]
  },
  {
   "cell_type": "code",
   "execution_count": null,
   "id": "1d3cab66-fc47-4121-889d-ee9643ff6142",
   "metadata": {
    "tags": []
   },
   "outputs": [],
   "source": [
    "%%bash\n",
    "echo \"Start Script\"\n",
    "if [ -d \".git\" ]\n",
    "then\n",
    "echo \"We can perform the git command\"\n",
    "git add .\n",
    "git commit -m \"update notebook\"\n",
    "echo \"Pushing data to remote server!!!\"\n",
    "git push\n",
    "else\n",
    "echo \"Please add the origin after perform git commands\"\n",
    "fi\n",
    "echo \"Finish Script\""
   ]
  },
  {
   "cell_type": "code",
   "execution_count": null,
   "id": "eb300070-e21c-4d9a-bcb6-504dbb083b51",
   "metadata": {},
   "outputs": [],
   "source": [
    "\n"
   ]
  }
 ],
 "metadata": {
  "kernelspec": {
   "display_name": "Python 3 (ipykernel)",
   "language": "python",
   "name": "python3"
  },
  "language_info": {
   "codemirror_mode": {
    "name": "ipython",
    "version": 3
   },
   "file_extension": ".py",
   "mimetype": "text/x-python",
   "name": "python",
   "nbconvert_exporter": "python",
   "pygments_lexer": "ipython3",
   "version": "3.11.5"
  }
 },
 "nbformat": 4,
 "nbformat_minor": 5
}
