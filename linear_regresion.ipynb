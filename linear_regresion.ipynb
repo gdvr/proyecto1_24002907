{
 "cells": [
  {
   "cell_type": "markdown",
   "id": "7a3773f6-9ce3-43aa-9c0b-299cfc6b29ce",
   "metadata": {},
   "source": [
    "# Gerardo Daniel Vega Rosales"
   ]
  },
  {
   "cell_type": "code",
   "execution_count": null,
   "id": "1d3cab66-fc47-4121-889d-ee9643ff6142",
   "metadata": {},
   "outputs": [],
   "source": [
    "%%bash\n",
    "echo \"Start Script\"\n",
    "if [ -d \".git\" ]\n",
    "then\n",
    "echo \"We can perform the git command\"\n",
    "git add .\n",
    "git commit -m \"update notebook\"\n",
    "echo \"Pushing data to remote server!!!\"\n",
    "git push\n",
    "else\n",
    "echo \"Please add the origin after perform git commands\"\n",
    "fi\n",
    "echo \"Finish Script\""
   ]
  }
 ],
 "metadata": {
  "kernelspec": {
   "display_name": "Python 3 (ipykernel)",
   "language": "python",
   "name": "python3"
  },
  "language_info": {
   "codemirror_mode": {
    "name": "ipython",
    "version": 3
   },
   "file_extension": ".py",
   "mimetype": "text/x-python",
   "name": "python",
   "nbconvert_exporter": "python",
   "pygments_lexer": "ipython3",
   "version": "3.11.5"
  }
 },
 "nbformat": 4,
 "nbformat_minor": 5
}
