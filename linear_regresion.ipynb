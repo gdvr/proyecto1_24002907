{
 "cells": [
  {
   "cell_type": "markdown",
   "id": "7a3773f6-9ce3-43aa-9c0b-299cfc6b29ce",
   "metadata": {},
   "source": [
    "# Gerardo Daniel Vega Rosales"
   ]
  },
  {
   "cell_type": "code",
   "execution_count": 1,
   "id": "c6d4470e-dab8-4d16-b9fa-fcaf3e725ad0",
   "metadata": {
    "tags": []
   },
   "outputs": [],
   "source": [
    "import numpy as np\n",
    "import pandas as pd\n",
    "import matplotlib.pyplot as plt\n",
    "import seaborn as sns\n",
    "from sklearn.linear_model import LinearRegression"
   ]
  },
  {
   "cell_type": "code",
   "execution_count": 2,
   "id": "52fb45ef-d59e-4988-bcda-3b170c02c65c",
   "metadata": {
    "tags": []
   },
   "outputs": [],
   "source": [
    "def printDataSetInfo(dataset):\n",
    "    print(f\"{'*'*50} DataSet Information {'*'*50}\")\n",
    "    print(f\"Dimensiones del dataset {dataset.shape}\")\n",
    "    print(\"Columnas\")\n",
    "    print(dataset.columns)\n",
    "    print(\"Tipos\")\n",
    "    print(dataset.dtypes)    \n",
    "    \n",
    "    print()\n",
    "    print(\"Verificando los valores nulos del dataset\")\n",
    "    columnas = dataset.columns\n",
    "    for col in columnas:\n",
    "        porcentaje = dataset[col].isnull().mean()\n",
    "        if(porcentaje > 0):\n",
    "            print(f\"{col}: {porcentaje}\")\n",
    "    print()\n",
    "   \n",
    "    print(\"Valores Estadisticos de las columnas\")\n",
    "    for col in columnas:\n",
    "        df_describe = dataset[col].describe()\n",
    "        print(col)\n",
    "        print(\"Media\",df_describe['mean'])\n",
    "        print(\"Maximo\",df_describe['max'])        \n",
    "        print(\"Minimo\",df_describe['min'])        \n",
    "        print(\"Rango\" ,df_describe['max']- df_describe['min'])\n",
    "        print(\"Desviacion\",df_describe['std'])\n",
    "        sns.displot(dataset[col])\n",
    "        plt.show()\n",
    "        print(\"-\"*20)    \n",
    "        print()\n",
    "    print(f\"{'*'*50} Fin DataSet Information {'*'*50}\")"
   ]
  },
  {
   "cell_type": "code",
   "execution_count": 3,
   "id": "41c795db-348e-4847-addd-64f3389fd99f",
   "metadata": {
    "tags": []
   },
   "outputs": [],
   "source": [
    "def slicingDataSet(dataset):  \n",
    "    # Calculate the index to split the data\n",
    "    split_index = int(0.8 * len(dataset))\n",
    "\n",
    "    # Splitting into train and test datasets\n",
    "    train_df = dataset.iloc[:split_index]\n",
    "    test_df = dataset.iloc[split_index:]\n",
    "\n",
    "    # Display the shapes of train and test datasets\n",
    "    print(\"Train dataset shape:\", train_df.shape)\n",
    "    print(\"Test dataset shape:\", test_df.shape)\n",
    "    return train_df, test_df"
   ]
  },
  {
   "cell_type": "code",
   "execution_count": 4,
   "id": "ee3c6e81-6446-45cb-8426-451d9d91bec1",
   "metadata": {
    "tags": []
   },
   "outputs": [],
   "source": [
    "def correlationCoefficientes(dataset):\n",
    "    # Calculate correlation coefficients\n",
    "    \n",
    "    correlation_matrix = dataset.corr()\n",
    "\n",
    "    # Visualize the correlation matrix\n",
    "    plt.figure(figsize=(10, 8))\n",
    "    plt.imshow(correlation_matrix, cmap='coolwarm', interpolation='nearest')\n",
    "    plt.colorbar()\n",
    "    plt.xticks(range(len(correlation_matrix.columns)), correlation_matrix.columns, rotation=90)\n",
    "    plt.yticks(range(len(correlation_matrix.columns)), correlation_matrix.columns)\n",
    "    plt.title('Correlation Matrix')\n",
    "    plt.show()"
   ]
  },
  {
   "cell_type": "code",
   "execution_count": 5,
   "id": "e26a3720-4dfe-4466-8a8b-96808ec731f6",
   "metadata": {
    "tags": []
   },
   "outputs": [],
   "source": [
    "def showScatterPlotBetweenXandY(dataset,dependant):\n",
    "    # Assuming 'x' and 'y' are the column names you want to compare\n",
    "    x_columns = dataset.columns  # Replace with your actual column names\n",
    "    y_column = dependant  # Replace with your actual column name\n",
    "\n",
    "    plt.figure(figsize=(12, 8))\n",
    "    index_col = 1\n",
    "    for i, x in enumerate(x_columns,1):\n",
    "        if(x == dependant):\n",
    "            continue\n",
    "        correlation_coefficient = train_df[x].corr(train_df[y_column])\n",
    "        print(f\"Correlation coefficient between {x} and {y_column}: {correlation_coefficient}\")\n",
    "        plt.subplot(2, 3, index_col)\n",
    "        sns.scatterplot(data=train_df, x=x, y=y_column)\n",
    "        plt.title(f'CR={correlation_coefficient}')\n",
    "        index_col=index_col+1\n",
    "    plt.tight_layout()\n",
    "    plt.show()\n",
    "    # Plot scatterplots for each 'x' and 'y' pair\n",
    "    \"\"\"plt.figure(figsize=(12, 8))\n",
    "    for i, x_col in enumerate(x_columns, 1):\n",
    "        plt.subplot(2, 3, i)\n",
    "        sns.scatterplot(data=train_df, x=x_col, y=y_column)\n",
    "        plt.title(f'{x_col} vs {y_column}')\n",
    "\n",
    "    plt.tight_layout()\n",
    "    plt.show()\n",
    "    \"\"\""
   ]
  },
  {
   "cell_type": "code",
   "execution_count": 23,
   "id": "c1f3742a-a34e-4892-a6fb-223e71077505",
   "metadata": {
    "tags": []
   },
   "outputs": [],
   "source": [
    "%run ModelTrainingStructure.ipynb"
   ]
  },
  {
   "cell_type": "code",
   "execution_count": 27,
   "id": "8c88a86e-d9ed-4043-bdd5-78cd41b993be",
   "metadata": {
    "tags": []
   },
   "outputs": [],
   "source": [
    "def predictModels(manual_model, scikit_model, values):\n",
    "    predict_list = []\n",
    "    for x in values:\n",
    "        manual = manual_model.predict(x)\n",
    "        scikit = scikit_model.predict(np.array([[x]]))\n",
    "        predict_list.append([manual,scikit[0], ((manual+scikit[0])/2)])\n",
    "    return predict_list\n",
    "        \n",
    "    \n",
    "def testingModels(testing_data,manual_model, scikit_model, x_var):\n",
    "    predict_values = predictModels(dataList,reg,testing_data[x_var].to_numpy())\n",
    "    manual_values = [inner_list[0] for inner_list in predict_values]\n",
    "    scikit_values = [inner_list[1] for inner_list in predict_values]\n",
    "    \n",
    "    error_manual = np.sum(testing_data['SalePrice'].to_numpy() - manual_values)**2\n",
    "    error_manual = (error_manual/len(testing_data)) ** 0.5    \n",
    "    error_scikit = np.sum(testing_data['SalePrice'].to_numpy() - scikit_values)**2\n",
    "    error_scikit = (error_scikit/len(testing_data)) ** 0.5    \n",
    "    \n",
    "    plt.figure(figsize=(8, 6))\n",
    "    plt.bar(['manual','scikit'], [error_manual,error_scikit],color=['blue', 'green'])\n",
    "    plt.xlabel('Error')\n",
    "    plt.ylabel('Comparison')\n",
    "    plt.title(f\"Manual: {round(error_manual,2)} vs Scikit: {round(error_scikit,2)}\")\n",
    "    plt.grid(True)\n",
    "    plt.show()\n",
    "\n",
    "        "
   ]
  },
  {
   "cell_type": "code",
   "execution_count": 25,
   "id": "478252b1-af8c-4159-a7c2-a0d73a60b3a6",
   "metadata": {
    "tags": []
   },
   "outputs": [],
   "source": [
    "def sckitLearningApproach(x_train,y_train):\n",
    "    if len(x_train.shape) == 1:\n",
    "        x_train = x_train.reshape(-1, 1)\n",
    "    reg = LinearRegression().fit(x_train, y_train)\n",
    "    print(\"intercepts\")\n",
    "    print(reg.intercept_)\n",
    "    print(\"coeficient\")\n",
    "    print(reg.coef_)\n",
    "    return reg"
   ]
  },
  {
   "cell_type": "code",
   "execution_count": 28,
   "id": "758c8221-da0b-4713-8bbb-9f947e7472e2",
   "metadata": {
    "tags": []
   },
   "outputs": [
    {
     "name": "stdout",
     "output_type": "stream",
     "text": [
      "Train dataset shape: (1168, 6)\n",
      "Test dataset shape: (292, 6)\n",
      "<__main__.LinearRegresaion object at 0x0000022EE1E38350>\n",
      "y_predict_values\n",
      "[4.38980951e+42 6.47189015e+42 4.71801927e+42 ... 7.70267674e+42\n",
      " 8.68730601e+42 4.91802209e+42]\n",
      "\n",
      "iteration 9\n",
      "[4.38980951e+42 6.47189015e+42 4.71801927e+42 ... 7.70267674e+42\n",
      " 8.68730601e+42 4.91802209e+42]\n",
      "error: 2.053597197858108e+88\n",
      "EB1: 7.572811382227574e+45\n",
      "EB0: 5.929952409569753e+42\n",
      "B0: -5.929550835574724e+40\n",
      "B1:-7.572298554482877e+43\n",
      "\n",
      "B0: -5.929550835574724e+40\n",
      "B1:-7.572298554482877e+43\n"
     ]
    },
    {
     "data": {
      "image/png": "[encoded data removed]",
      "text/plain": [
       "<Figure size 1000x800 with 1 Axes>"
      ]
     },
     "metadata": {},
     "output_type": "display_data"
    },
    {
     "name": "stdout",
     "output_type": "stream",
     "text": [
      "intercepts\n",
      "30324.585174963664\n",
      "coeficient\n",
      "[129.95124229]\n"
     ]
    },
    {
     "data": {
      "image/png": "[encoded data removed]",
      "text/plain": [
       "<Figure size 800x600 with 1 Axes>"
      ]
     },
     "metadata": {},
     "output_type": "display_data"
    }
   ],
   "source": [
    "# data_array = np.load('proyecto_training_data.npy')\n",
    "#print(data_array)\n",
    "df = pd.DataFrame(data_array, columns=[\"SalePrice\",\"OverallQual\", \"1stFlrSF\",\"TotRmsAbvGrd\",\"YearBuilt\", \"LotFrontage\"])\n",
    "#printDataSetInfo(df)\n",
    "train_df, test_df = slicingDataSet(df)\n",
    "#correlationCoefficientes(train_df)\n",
    "#showScatterPlotBetweenXandY(train_df,\"SalePrice\")\n",
    "#train_df['SalePrice'][0]\n",
    "\n",
    "\n",
    "#Fisrt variable\n",
    "\"\"\"\n",
    "b_data=[0,0]\n",
    "trainingModel = LinearRegresaion(train_df['OverallQual'].to_numpy(),train_df['SalePrice'].to_numpy(),30000,10000,0.01,b_data)\n",
    "print(trainingModel)\n",
    "dataList = trainingModel.training()\n",
    "trainingModel.graphTrainingModel(dataList,1000)\n",
    "trainingModel.graphError(dataList)\n",
    "reg = sckitLearningApproach(train_df['OverallQual'].to_numpy(),train_df['SalePrice'].to_numpy())\n",
    "testingModels(test_df,dataList,reg,'OverallQual')\n",
    "\n",
    "\"\"\"\n",
    "#Second Variable\n",
    "b_data=[0,0]\n",
    "trainingModel = LinearRegresaion(train_df['1stFlrSF'].to_numpy(),train_df['SalePrice'].to_numpy(),10,1,0.01,b_data)\n",
    "print(trainingModel)\n",
    "dataList = trainingModel.training()\n",
    "trainingModel.graphTrainingModel(dataList,1000)\n",
    "trainingModel.graphError(dataList)\n",
    "reg = sckitLearningApproach(train_df['1stFlrSF'].to_numpy(),train_df['SalePrice'].to_numpy())\n",
    "testingModels(test_df,dataList,reg,'OverallQual')\n"
   ]
  },
  {
   "cell_type": "code",
   "execution_count": null,
   "id": "1d3cab66-fc47-4121-889d-ee9643ff6142",
   "metadata": {
    "tags": []
   },
   "outputs": [
    {
     "name": "stdout",
     "output_type": "stream",
     "text": [
      "Start Script\n",
      "We can perform the git command\n",
      "[gdvr/feature/control_file 6cbb183] update notebook\n",
      " 2 files changed, 106 insertions(+), 26 deletions(-)\n",
      "Pushing data to remote server!!!\n"
     ]
    }
   ],
   "source": [
    "%%bash\n",
    "echo \"Start Script\"\n",
    "if [ -d \".git\" ]\n",
    "then\n",
    "echo \"We can perform the git command\"\n",
    "git add .\n",
    "git commit -m \"update notebook\"\n",
    "echo \"Pushing data to remote server!!!\"\n",
    "git push\n",
    "else\n",
    "echo \"Please add the origin after perform git commands\"\n",
    "fi\n",
    "echo \"Finish Script\""
   ]
  },
  {
   "cell_type": "code",
   "execution_count": null,
   "id": "eb300070-e21c-4d9a-bcb6-504dbb083b51",
   "metadata": {},
   "outputs": [],
   "source": [
    "\n"
   ]
  }
 ],
 "metadata": {
  "kernelspec": {
   "display_name": "Python 3 (ipykernel)",
   "language": "python",
   "name": "python3"
  },
  "language_info": {
   "codemirror_mode": {
    "name": "ipython",
    "version": 3
   },
   "file_extension": ".py",
   "mimetype": "text/x-python",
   "name": "python",
   "nbconvert_exporter": "python",
   "pygments_lexer": "ipython3",
   "version": "3.11.5"
  }
 },
 "nbformat": 4,
 "nbformat_minor": 5
}
